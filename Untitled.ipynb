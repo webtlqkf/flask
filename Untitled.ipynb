{
 "cells": [
  {
   "cell_type": "code",
   "execution_count": 22,
   "id": "1e89b1cd",
   "metadata": {},
   "outputs": [],
   "source": [
    "from webproject import db\n",
    "from webproject.models import *\n",
    "from datetime import datetime"
   ]
  },
  {
   "cell_type": "code",
   "execution_count": 23,
   "id": "fbbd2a77",
   "metadata": {},
   "outputs": [
    {
     "ename": "RuntimeError",
     "evalue": "No application found. Either work inside a view function or push an application context. See http://flask-sqlalchemy.pocoo.org/contexts/.",
     "output_type": "error",
     "traceback": [
      "\u001b[1;31m---------------------------------------------------------------------------\u001b[0m",
      "\u001b[1;31mKeyError\u001b[0m                                  Traceback (most recent call last)",
      "File \u001b[1;32mC:\\venvs\\myproject\\lib\\site-packages\\sqlalchemy\\util\\_collections.py:1008\u001b[0m, in \u001b[0;36mScopedRegistry.__call__\u001b[1;34m(self)\u001b[0m\n\u001b[0;32m   1007\u001b[0m \u001b[38;5;28;01mtry\u001b[39;00m:\n\u001b[1;32m-> 1008\u001b[0m     \u001b[38;5;28;01mreturn\u001b[39;00m \u001b[38;5;28;43mself\u001b[39;49m\u001b[38;5;241;43m.\u001b[39;49m\u001b[43mregistry\u001b[49m\u001b[43m[\u001b[49m\u001b[43mkey\u001b[49m\u001b[43m]\u001b[49m\n\u001b[0;32m   1009\u001b[0m \u001b[38;5;28;01mexcept\u001b[39;00m \u001b[38;5;167;01mKeyError\u001b[39;00m:\n",
      "\u001b[1;31mKeyError\u001b[0m: <greenlet.greenlet object at 0x0000026E7E3F0670 (otid=0x0000026E7B9331C0) current active started main>",
      "\nDuring handling of the above exception, another exception occurred:\n",
      "\u001b[1;31mRuntimeError\u001b[0m                              Traceback (most recent call last)",
      "Input \u001b[1;32mIn [23]\u001b[0m, in \u001b[0;36m<cell line: 1>\u001b[1;34m()\u001b[0m\n\u001b[0;32m      2\u001b[0m b \u001b[38;5;241m=\u001b[39m BookInfo(name\u001b[38;5;241m=\u001b[39m\u001b[38;5;124m'\u001b[39m\u001b[38;5;124mtest_bookname: \u001b[39m\u001b[38;5;132;01m%d\u001b[39;00m\u001b[38;5;124m'\u001b[39m \u001b[38;5;241m%\u001b[39mi, author \u001b[38;5;241m=\u001b[39m \u001b[38;5;124m'\u001b[39m\u001b[38;5;124mtest_author \u001b[39m\u001b[38;5;132;01m%d\u001b[39;00m\u001b[38;5;124m'\u001b[39m \u001b[38;5;241m%\u001b[39mi, school\u001b[38;5;241m=\u001b[39m\u001b[38;5;124m'\u001b[39m\u001b[38;5;124mtest_school \u001b[39m\u001b[38;5;132;01m%d\u001b[39;00m\u001b[38;5;124m'\u001b[39m \u001b[38;5;241m%\u001b[39mi ,department\u001b[38;5;241m=\u001b[39m\u001b[38;5;124m'\u001b[39m\u001b[38;5;124mtest_depart \u001b[39m\u001b[38;5;132;01m%d\u001b[39;00m\u001b[38;5;124m'\u001b[39m\u001b[38;5;241m%\u001b[39mi)\n\u001b[0;32m      3\u001b[0m p \u001b[38;5;241m=\u001b[39m Post(subject\u001b[38;5;241m=\u001b[39m\u001b[38;5;124m'\u001b[39m\u001b[38;5;124mtest_subject \u001b[39m\u001b[38;5;132;01m%d\u001b[39;00m\u001b[38;5;124m'\u001b[39m \u001b[38;5;241m%\u001b[39mi,content\u001b[38;5;241m=\u001b[39m\u001b[38;5;124m'\u001b[39m\u001b[38;5;124mtest content\u001b[39m\u001b[38;5;124m'\u001b[39m, book\u001b[38;5;241m=\u001b[39mb, create_date\u001b[38;5;241m=\u001b[39mdatetime\u001b[38;5;241m.\u001b[39mnow() )\n\u001b[1;32m----> 4\u001b[0m \u001b[43mdb\u001b[49m\u001b[38;5;241;43m.\u001b[39;49m\u001b[43msession\u001b[49m\u001b[38;5;241;43m.\u001b[39;49m\u001b[43madd\u001b[49m\u001b[43m(\u001b[49m\u001b[43mb\u001b[49m\u001b[43m)\u001b[49m\n\u001b[0;32m      5\u001b[0m db\u001b[38;5;241m.\u001b[39msession\u001b[38;5;241m.\u001b[39madd(p)\n\u001b[0;32m      6\u001b[0m db\u001b[38;5;241m.\u001b[39mcommit()\n",
      "File \u001b[1;32m<string>:2\u001b[0m, in \u001b[0;36madd\u001b[1;34m(self, instance, _warn)\u001b[0m\n",
      "File \u001b[1;32mC:\\venvs\\myproject\\lib\\site-packages\\sqlalchemy\\orm\\scoping.py:24\u001b[0m, in \u001b[0;36mScopedSessionMixin._proxied\u001b[1;34m(self)\u001b[0m\n\u001b[0;32m     22\u001b[0m \u001b[38;5;129m@property\u001b[39m\n\u001b[0;32m     23\u001b[0m \u001b[38;5;28;01mdef\u001b[39;00m \u001b[38;5;21m_proxied\u001b[39m(\u001b[38;5;28mself\u001b[39m):\n\u001b[1;32m---> 24\u001b[0m     \u001b[38;5;28;01mreturn\u001b[39;00m \u001b[38;5;28;43mself\u001b[39;49m\u001b[38;5;241;43m.\u001b[39;49m\u001b[43mregistry\u001b[49m\u001b[43m(\u001b[49m\u001b[43m)\u001b[49m\n",
      "File \u001b[1;32mC:\\venvs\\myproject\\lib\\site-packages\\sqlalchemy\\util\\_collections.py:1010\u001b[0m, in \u001b[0;36mScopedRegistry.__call__\u001b[1;34m(self)\u001b[0m\n\u001b[0;32m   1008\u001b[0m     \u001b[38;5;28;01mreturn\u001b[39;00m \u001b[38;5;28mself\u001b[39m\u001b[38;5;241m.\u001b[39mregistry[key]\n\u001b[0;32m   1009\u001b[0m \u001b[38;5;28;01mexcept\u001b[39;00m \u001b[38;5;167;01mKeyError\u001b[39;00m:\n\u001b[1;32m-> 1010\u001b[0m     \u001b[38;5;28;01mreturn\u001b[39;00m \u001b[38;5;28mself\u001b[39m\u001b[38;5;241m.\u001b[39mregistry\u001b[38;5;241m.\u001b[39msetdefault(key, \u001b[38;5;28;43mself\u001b[39;49m\u001b[38;5;241;43m.\u001b[39;49m\u001b[43mcreatefunc\u001b[49m\u001b[43m(\u001b[49m\u001b[43m)\u001b[49m)\n",
      "File \u001b[1;32mC:\\venvs\\myproject\\lib\\site-packages\\sqlalchemy\\orm\\session.py:4205\u001b[0m, in \u001b[0;36msessionmaker.__call__\u001b[1;34m(self, **local_kw)\u001b[0m\n\u001b[0;32m   4203\u001b[0m     \u001b[38;5;28;01melse\u001b[39;00m:\n\u001b[0;32m   4204\u001b[0m         local_kw\u001b[38;5;241m.\u001b[39msetdefault(k, v)\n\u001b[1;32m-> 4205\u001b[0m \u001b[38;5;28;01mreturn\u001b[39;00m \u001b[38;5;28mself\u001b[39m\u001b[38;5;241m.\u001b[39mclass_(\u001b[38;5;241m*\u001b[39m\u001b[38;5;241m*\u001b[39mlocal_kw)\n",
      "File \u001b[1;32mC:\\venvs\\myproject\\lib\\site-packages\\flask_sqlalchemy\\__init__.py:174\u001b[0m, in \u001b[0;36mSignallingSession.__init__\u001b[1;34m(self, db, autocommit, autoflush, **options)\u001b[0m\n\u001b[0;32m    172\u001b[0m \u001b[38;5;28;01mdef\u001b[39;00m \u001b[38;5;21m__init__\u001b[39m(\u001b[38;5;28mself\u001b[39m, db, autocommit\u001b[38;5;241m=\u001b[39m\u001b[38;5;28;01mFalse\u001b[39;00m, autoflush\u001b[38;5;241m=\u001b[39m\u001b[38;5;28;01mTrue\u001b[39;00m, \u001b[38;5;241m*\u001b[39m\u001b[38;5;241m*\u001b[39moptions):\n\u001b[0;32m    173\u001b[0m     \u001b[38;5;66;03m#: The application that this session belongs to.\u001b[39;00m\n\u001b[1;32m--> 174\u001b[0m     \u001b[38;5;28mself\u001b[39m\u001b[38;5;241m.\u001b[39mapp \u001b[38;5;241m=\u001b[39m app \u001b[38;5;241m=\u001b[39m \u001b[43mdb\u001b[49m\u001b[38;5;241;43m.\u001b[39;49m\u001b[43mget_app\u001b[49m\u001b[43m(\u001b[49m\u001b[43m)\u001b[49m\n\u001b[0;32m    175\u001b[0m     track_modifications \u001b[38;5;241m=\u001b[39m app\u001b[38;5;241m.\u001b[39mconfig[\u001b[38;5;124m'\u001b[39m\u001b[38;5;124mSQLALCHEMY_TRACK_MODIFICATIONS\u001b[39m\u001b[38;5;124m'\u001b[39m]\n\u001b[0;32m    176\u001b[0m     bind \u001b[38;5;241m=\u001b[39m options\u001b[38;5;241m.\u001b[39mpop(\u001b[38;5;124m'\u001b[39m\u001b[38;5;124mbind\u001b[39m\u001b[38;5;124m'\u001b[39m, \u001b[38;5;28;01mNone\u001b[39;00m) \u001b[38;5;129;01mor\u001b[39;00m db\u001b[38;5;241m.\u001b[39mengine\n",
      "File \u001b[1;32mC:\\venvs\\myproject\\lib\\site-packages\\flask_sqlalchemy\\__init__.py:1042\u001b[0m, in \u001b[0;36mSQLAlchemy.get_app\u001b[1;34m(self, reference_app)\u001b[0m\n\u001b[0;32m   1039\u001b[0m \u001b[38;5;28;01mif\u001b[39;00m \u001b[38;5;28mself\u001b[39m\u001b[38;5;241m.\u001b[39mapp \u001b[38;5;129;01mis\u001b[39;00m \u001b[38;5;129;01mnot\u001b[39;00m \u001b[38;5;28;01mNone\u001b[39;00m:\n\u001b[0;32m   1040\u001b[0m     \u001b[38;5;28;01mreturn\u001b[39;00m \u001b[38;5;28mself\u001b[39m\u001b[38;5;241m.\u001b[39mapp\n\u001b[1;32m-> 1042\u001b[0m \u001b[38;5;28;01mraise\u001b[39;00m \u001b[38;5;167;01mRuntimeError\u001b[39;00m(\n\u001b[0;32m   1043\u001b[0m     \u001b[38;5;124m'\u001b[39m\u001b[38;5;124mNo application found. Either work inside a view function or push\u001b[39m\u001b[38;5;124m'\u001b[39m\n\u001b[0;32m   1044\u001b[0m     \u001b[38;5;124m'\u001b[39m\u001b[38;5;124m an application context. See\u001b[39m\u001b[38;5;124m'\u001b[39m\n\u001b[0;32m   1045\u001b[0m     \u001b[38;5;124m'\u001b[39m\u001b[38;5;124m http://flask-sqlalchemy.pocoo.org/contexts/.\u001b[39m\u001b[38;5;124m'\u001b[39m\n\u001b[0;32m   1046\u001b[0m )\n",
      "\u001b[1;31mRuntimeError\u001b[0m: No application found. Either work inside a view function or push an application context. See http://flask-sqlalchemy.pocoo.org/contexts/."
     ]
    }
   ],
   "source": [
    "for i in range(200):\n",
    "    b = BookInfo(name='test_bookname: %d' %i, author = 'test_author %d' %i, school='test_school %d' %i ,department='test_depart %d'%i)\n",
    "    p = Post(subject='test_subject %d' %i,content='test content', book=b, create_date=datetime.now() )\n",
    "    db.session.add(b)\n",
    "    db.session.add(p)\n",
    "    db.commit()"
   ]
  },
  {
   "cell_type": "code",
   "execution_count": 20,
   "id": "949658b1",
   "metadata": {},
   "outputs": [
    {
     "data": {
      "text/plain": [
       "<BookInfo (transient 2671502631520)>"
      ]
     },
     "execution_count": 20,
     "metadata": {},
     "output_type": "execute_result"
    }
   ],
   "source": [
    "b"
   ]
  },
  {
   "cell_type": "code",
   "execution_count": null,
   "id": "efd07a64",
   "metadata": {},
   "outputs": [],
   "source": []
  }
 ],
 "metadata": {
  "kernelspec": {
   "display_name": "Python 3 (ipykernel)",
   "language": "python",
   "name": "python3"
  },
  "language_info": {
   "codemirror_mode": {
    "name": "ipython",
    "version": 3
   },
   "file_extension": ".py",
   "mimetype": "text/x-python",
   "name": "python",
   "nbconvert_exporter": "python",
   "pygments_lexer": "ipython3",
   "version": "3.10.4"
  }
 },
 "nbformat": 4,
 "nbformat_minor": 5
}
